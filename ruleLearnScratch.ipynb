{
 "cells": [
  {
   "cell_type": "code",
   "execution_count": 1,
   "metadata": {},
   "outputs": [],
   "source": [
    "from instructRNN.analysis.model_analysis import *\n",
    "from instructRNN.tasks.tasks import *\n",
    "from instructRNN.data_loaders.perfDataFrame import PerfDataFrame\n",
    "from instructRNN.tasks.task_criteria import isCorrect\n",
    "from instructRNN.instructions.instruct_utils import train_instruct_dict, test_instruct_dict\n",
    "from instructRNN.tasks.task_factory import STIM_DIM\n",
    "from instructRNN.instructions.instruct_utils import get_task_info\n",
    "from instructRNN.trainers.decoder_trainer import *\n",
    "\n",
    "import numpy as np\n",
    "import matplotlib.pyplot as plt\n",
    "import seaborn as sns\n",
    "import matplotlib.patches as mpatches\n",
    "from matplotlib import cm\n",
    "from matplotlib.lines import Line2D\n",
    "from matplotlib.ticker import MaxNLocator\n",
    "import torch\n",
    "from sklearn.preprocessing import normalize\n",
    "\n",
    "from scipy.ndimage import gaussian_filter1d\n",
    "import warnings\n",
    "\n",
    "import matplotlib.pyplot as plt\n",
    "import seaborn as sns\n",
    "\n",
    "from instructRNN.models.full_models import *\n",
    "from instructRNN.plotting.plotting import *\n",
    "from instructRNN.analysis.model_eval import *\n",
    "from instructRNN.analysis.model_analysis import *\n",
    "from instructRNN.tasks.tasks import DICH_DICT\n",
    "import pickle\n",
    "\n",
    "from sklearn.metrics.pairwise import cosine_similarity\n",
    "from instructRNN.analysis.decoder_analysis import * "
   ]
  },
  {
   "cell_type": "code",
   "execution_count": 3,
   "metadata": {},
   "outputs": [
    {
     "data": {
      "text/plain": [
       "array([[[0.        , 0.10294278, 0.        , ..., 0.        ,\n",
       "         0.        , 0.        ]],\n",
       "\n",
       "       [[0.        , 1.57921374, 0.        , ..., 0.        ,\n",
       "         0.        , 0.        ]],\n",
       "\n",
       "       [[0.        , 0.12451614, 0.        , ..., 0.        ,\n",
       "         0.        , 0.        ]],\n",
       "\n",
       "       ...,\n",
       "\n",
       "       [[0.        , 0.        , 0.        , ..., 0.20414522,\n",
       "         0.33085451, 0.        ]],\n",
       "\n",
       "       [[0.        , 0.42365247, 0.        , ..., 0.        ,\n",
       "         0.        , 0.        ]],\n",
       "\n",
       "       [[0.        , 0.02634974, 0.        , ..., 0.        ,\n",
       "         0.19766884, 0.        ]]])"
      ]
     },
     "execution_count": 3,
     "metadata": {},
     "output_type": "execute_result"
    }
   ],
   "source": [
    "simpleNet = SimpleNetPlus()\n",
    "simpleNet.load_model('NN_simData/swap_holdouts/swap0/simpleNetPlus', suffix='_seed0')\n",
    "rule_reps = get_rule_reps(simpleNet, use_rule_encoder=True)\n",
    "#task_reps = get_task_reps(simpleNet, epoch=None, max_var=True)\n",
    "rule_reps"
   ]
  },
  {
   "cell_type": "code",
   "execution_count": null,
   "metadata": {},
   "outputs": [],
   "source": [
    "TASK_LIST[:12]\n",
    "\n",
    "sns.heatmap(np.corrcoef(task_reps[:12, 0, :, 0]), yticklabels=TASK_LIST[:12])\n"
   ]
  },
  {
   "cell_type": "code",
   "execution_count": 108,
   "metadata": {},
   "outputs": [
    {
     "name": "stdout",
     "output_type": "stream",
     "text": [
      "(64, 50)\n"
     ]
    },
    {
     "data": {
      "text/plain": [
       "(64, 1, 50)"
      ]
     },
     "execution_count": 108,
     "metadata": {},
     "output_type": "execute_result"
    }
   ],
   "source": [
    "def fit_rule_PCs(rule_encoding_set): \n",
    "    embedder = PCA()\n",
    "    embedder.fit(rule_encoding_set.reshape(-1, rule_encoding_set.shape[-1]))\n",
    "    return embedder\n",
    "\n",
    "rule_reps = get_rule_reps(simpleNet, use_rule_encoder=True)\n",
    "pcs, var_exp = reduce_rep(np.swapaxes(rule_reps, 0, 2), range(50))\n",
    "pcs.shape"
   ]
  },
  {
   "cell_type": "code",
   "execution_count": null,
   "metadata": {},
   "outputs": [],
   "source": [
    "directions_dict = {}\n",
    "for key, values in DICH_DICT.items():\n",
    "    directions_dict[key] = np.array([rule_reps[TASK_LIST.index(dich_pair[1])]-rule_reps[TASK_LIST.index(dich_pair[0])] for dich_pair in values])\n",
    "\n",
    "\n",
    "from sklearn.metrics.pairwise import cosine_similarity\n",
    "\n",
    "dich_key = 'dich7'\n",
    "sns.heatmap(cosine_similarity(directions_dict[dich_key].squeeze(), pcs.squeeze().T))\n",
    "plt.show()\n"
   ]
  },
  {
   "cell_type": "code",
   "execution_count": 26,
   "metadata": {},
   "outputs": [],
   "source": [
    "def get_unit_traj_corr(task_reps): \n",
    "    corr_mat = np.empty((len(TASK_LIST), len(TASK_LIST), task_reps.shape[-1]))\n",
    "    task_mean_reps = task_reps.mean(1)\n",
    "    for i in range(task_reps.shape[-1]): \n",
    "        corr_mat[...,i] = np.corrcoef(task_mean_reps[..., i])\n",
    "    return corr_mat\n",
    "\n",
    "task_reps = get_task_reps(simpleNet, epoch=None)\n",
    "corr_mat  = get_unit_traj_corr(task_reps)    \n",
    "sns.heatmap(corr_mat.mean(-1))\n",
    "plt.show()\n",
    "\n"
   ]
  }
 ],
 "metadata": {
  "kernelspec": {
   "display_name": "instructRNN",
   "language": "python",
   "name": "python3"
  },
  "language_info": {
   "codemirror_mode": {
    "name": "ipython",
    "version": 3
   },
   "file_extension": ".py",
   "mimetype": "text/x-python",
   "name": "python",
   "nbconvert_exporter": "python",
   "pygments_lexer": "ipython3",
   "version": "3.7.11"
  },
  "orig_nbformat": 4,
  "vscode": {
   "interpreter": {
    "hash": "57303eedf6bb6943514250f03dbab0b22650e3a797bd6474db63d8de3ba3bc6f"
   }
  }
 },
 "nbformat": 4,
 "nbformat_minor": 2
}
